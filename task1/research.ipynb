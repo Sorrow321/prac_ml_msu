{
 "cells": [
  {
   "cell_type": "code",
   "execution_count": 1,
   "metadata": {},
   "outputs": [],
   "source": [
    "import numpy as np\n",
    "import pandas as pd\n",
    "import time\n",
    "import matplotlib.pyplot as plt\n",
    "from nearest_neighbors import KNNClassifier\n",
    "from cross_validation import *\n",
    "from sklearn.metrics import confusion_matrix\n",
    "%matplotlib inline"
   ]
  },
  {
   "cell_type": "code",
   "execution_count": 291,
   "metadata": {},
   "outputs": [
    {
     "name": "stdout",
     "output_type": "stream",
     "text": [
      "(60000, 784) (60000,) (10000, 784) (10000,)\n"
     ]
    }
   ],
   "source": [
    "X_train = pd.read_csv('./mnist_train.csv')\n",
    "y_train = X_train.pop('answer')\n",
    "X_test = pd.read_csv('./mnist_test.csv')\n",
    "y_test = X_test.pop('answer')\n",
    "print(X_train.shape, y_train.shape, X_test.shape, y_test.shape)"
   ]
  },
  {
   "cell_type": "markdown",
   "metadata": {},
   "source": [
    "### Execution time"
   ]
  },
  {
   "cell_type": "code",
   "execution_count": 4,
   "metadata": {},
   "outputs": [],
   "source": [
    "idx_subsets = [(np.random.randint(X_train.shape[1], size=x), x) for x in [10, 20, 100]]\n",
    "k = 5\n",
    "metric = 'euclidean'\n",
    "weights = False\n",
    "test_block_size = 10000\n",
    "strategy_list = ['my_own', 'brute', 'kd_tree', 'ball_tree']"
   ]
  },
  {
   "cell_type": "code",
   "execution_count": 5,
   "metadata": {},
   "outputs": [
    {
     "name": "stdout",
     "output_type": "stream",
     "text": [
      "strategy: my_own | subset size: 10 | time: 100.73077726364136\n",
      "strategy: my_own | subset size: 20 | time: 103.11806440353394\n",
      "strategy: my_own | subset size: 100 | time: 141.00851678848267\n",
      "strategy: brute | subset size: 10 | time: 10.94530463218689\n",
      "strategy: brute | subset size: 20 | time: 10.707028150558472\n",
      "strategy: brute | subset size: 100 | time: 12.261107921600342\n",
      "strategy: kd_tree | subset size: 10 | time: 2.579348564147949\n",
      "strategy: kd_tree | subset size: 20 | time: 4.295413494110107\n",
      "strategy: kd_tree | subset size: 100 | time: 86.93846130371094\n",
      "strategy: ball_tree | subset size: 10 | time: 3.2485053539276123\n",
      "strategy: ball_tree | subset size: 20 | time: 9.749547004699707\n",
      "strategy: ball_tree | subset size: 100 | time: 76.1410984992981\n"
     ]
    }
   ],
   "source": [
    "for strategy in strategy_list:\n",
    "    for subset, number in idx_subsets:\n",
    "        clf = KNNClassifier(k, strategy, metric, weights, test_block_size)\n",
    "        start_time = time.time()\n",
    "        clf.fit(X_train.iloc[:, subset].values, y_train.values)\n",
    "        clf.find_kneighbors(X_test.iloc[:, subset].values, False)\n",
    "        print(f'strategy: {strategy} | subset size: {number} | time: {time.time() - start_time}')"
   ]
  },
  {
   "cell_type": "code",
   "execution_count": 8,
   "metadata": {},
   "outputs": [],
   "source": [
    "k = X_train.shape[0]\n",
    "strategy_list = ['my_own', 'brute']"
   ]
  },
  {
   "cell_type": "code",
   "execution_count": 9,
   "metadata": {},
   "outputs": [
    {
     "name": "stdout",
     "output_type": "stream",
     "text": [
      "strategy: my_own | subset size: 10 | time: 99.51858305931091\n",
      "strategy: my_own | subset size: 20 | time: 103.2930109500885\n",
      "strategy: my_own | subset size: 100 | time: 136.18395614624023\n",
      "strategy: brute | subset size: 10 | time: 57.11698889732361\n",
      "strategy: brute | subset size: 20 | time: 57.15402960777283\n",
      "strategy: brute | subset size: 100 | time: 59.10980224609375\n"
     ]
    }
   ],
   "source": [
    "for strategy in strategy_list:\n",
    "    for subset, number in idx_subsets:\n",
    "        clf = KNNClassifier(k, strategy, metric, weights, test_block_size)\n",
    "        start_time = time.time()\n",
    "        clf.fit(X_train.iloc[:, subset].values, y_train.values)\n",
    "        clf.find_kneighbors(X_test.iloc[:, subset].values, False)\n",
    "        print(f'strategy: {strategy} | subset size: {number} | time: {time.time() - start_time}')"
   ]
  },
  {
   "cell_type": "markdown",
   "metadata": {},
   "source": [
    "### Cross-Validation"
   ]
  },
  {
   "cell_type": "code",
   "execution_count": 28,
   "metadata": {},
   "outputs": [],
   "source": [
    "folds = kfold(X_train.shape[0], 3)\n",
    "metrics = ['euclidean', 'cosine']"
   ]
  },
  {
   "cell_type": "code",
   "execution_count": 29,
   "metadata": {},
   "outputs": [],
   "source": [
    "params = {\n",
    "    'strategy' : 'brute',\n",
    "    'metric' : '',\n",
    "    'weights' : False,\n",
    "    'test_block_size' : 10000\n",
    "}"
   ]
  },
  {
   "cell_type": "code",
   "execution_count": 37,
   "metadata": {},
   "outputs": [
    {
     "name": "stdout",
     "output_type": "stream",
     "text": [
      "metric: euclidean | time: 93.86286664009094\n",
      "metric: cosine | time: 89.89413809776306\n"
     ]
    }
   ],
   "source": [
    "k_list = np.arange(1, 11)\n",
    "\n",
    "results = {}\n",
    "for metric_name in metrics:\n",
    "    params['metric'] = metric_name\n",
    "    start_time = time.time()\n",
    "    cv_results = knn_cross_val_score(X_train.values, y_train.values, k_list, 'accuracy', folds, **params)\n",
    "    print(f'metric: {metric_name} | time: {time.time() - start_time}')\n",
    "    results[metric_name] = cv_results"
   ]
  },
  {
   "cell_type": "code",
   "execution_count": 47,
   "metadata": {},
   "outputs": [
    {
     "data": {
      "text/plain": [
       "0.9674666666666667"
      ]
     },
     "execution_count": 47,
     "metadata": {},
     "output_type": "execute_result"
    }
   ],
   "source": [
    "(0.96895 + 0.96675 + 0.9667 ) / 3"
   ]
  },
  {
   "cell_type": "code",
   "execution_count": 48,
   "metadata": {},
   "outputs": [
    {
     "data": {
      "text/plain": [
       "0.9693666666666667"
      ]
     },
     "execution_count": 48,
     "metadata": {},
     "output_type": "execute_result"
    }
   ],
   "source": [
    "(0.97075 + 0.9691 + 0.96825) / 3"
   ]
  },
  {
   "cell_type": "code",
   "execution_count": 40,
   "metadata": {
    "scrolled": false
   },
   "outputs": [
    {
     "data": {
      "text/plain": [
       "{1: array([0.96895, 0.96675, 0.9667 ]),\n",
       " 2: array([0.96895, 0.96675, 0.9667 ]),\n",
       " 3: array([0.97075, 0.9691 , 0.96825]),\n",
       " 4: array([0.97095, 0.9698 , 0.97015]),\n",
       " 5: array([0.9692 , 0.96815, 0.9688 ]),\n",
       " 6: array([0.9704 , 0.96815, 0.9692 ]),\n",
       " 7: array([0.96705, 0.9659 , 0.9671 ]),\n",
       " 8: array([0.9676 , 0.96645, 0.96775]),\n",
       " 9: array([0.9651, 0.9644, 0.9656]),\n",
       " 10: array([0.96485, 0.9646 , 0.9657 ])}"
      ]
     },
     "execution_count": 40,
     "metadata": {},
     "output_type": "execute_result"
    }
   ],
   "source": [
    "results['euclidean']"
   ]
  },
  {
   "cell_type": "code",
   "execution_count": 52,
   "metadata": {},
   "outputs": [
    {
     "data": {
      "text/plain": [
       "{1: array([0.9733 , 0.9708 , 0.97045]),\n",
       " 2: array([0.9733 , 0.9708 , 0.97045]),\n",
       " 3: array([0.9748 , 0.97245, 0.9717 ]),\n",
       " 4: array([0.97535, 0.9733 , 0.97365]),\n",
       " 5: array([0.97385, 0.9706 , 0.9726 ]),\n",
       " 6: array([0.9747 , 0.97145, 0.9731 ]),\n",
       " 7: array([0.97205, 0.9692 , 0.9717 ]),\n",
       " 8: array([0.97285, 0.97005, 0.972  ]),\n",
       " 9: array([0.9708 , 0.96805, 0.9714 ]),\n",
       " 10: array([0.9714, 0.968 , 0.9714])}"
      ]
     },
     "execution_count": 52,
     "metadata": {},
     "output_type": "execute_result"
    }
   ],
   "source": [
    "results['cosine']"
   ]
  },
  {
   "cell_type": "code",
   "execution_count": 58,
   "metadata": {},
   "outputs": [
    {
     "data": {
      "text/plain": [
       "[0.9674666666666667,\n",
       " 0.9674666666666667,\n",
       " 0.9693666666666667,\n",
       " 0.9702999999999999,\n",
       " 0.9687166666666666,\n",
       " 0.9692500000000001,\n",
       " 0.9666833333333332,\n",
       " 0.9672666666666667,\n",
       " 0.9650333333333334,\n",
       " 0.9650500000000001]"
      ]
     },
     "execution_count": 58,
     "metadata": {},
     "output_type": "execute_result"
    }
   ],
   "source": [
    "[x.mean() for x in results['euclidean'].values()]"
   ]
  },
  {
   "cell_type": "code",
   "execution_count": 59,
   "metadata": {},
   "outputs": [],
   "source": [
    "params = {\n",
    "    'strategy' : 'brute',\n",
    "    'metric' : '',\n",
    "    'weights' : True,\n",
    "    'test_block_size' : 10000\n",
    "}"
   ]
  },
  {
   "cell_type": "code",
   "execution_count": 60,
   "metadata": {},
   "outputs": [
    {
     "name": "stdout",
     "output_type": "stream",
     "text": [
      "metric: euclidean | time: 93.39725971221924\n",
      "metric: cosine | time: 90.64732933044434\n"
     ]
    }
   ],
   "source": [
    "k_list = np.arange(1, 11)\n",
    "\n",
    "results = {}\n",
    "for metric_name in metrics:\n",
    "    params['metric'] = metric_name\n",
    "    start_time = time.time()\n",
    "    cv_results = knn_cross_val_score(X_train.values, y_train.values, k_list, 'accuracy', folds, **params)\n",
    "    print(f'metric: {metric_name} | time: {time.time() - start_time}')\n",
    "    results[metric_name] = cv_results"
   ]
  },
  {
   "cell_type": "code",
   "execution_count": 61,
   "metadata": {},
   "outputs": [
    {
     "data": {
      "text/plain": [
       "{1: array([0.96895, 0.96675, 0.9667 ]),\n",
       " 2: array([0.96895, 0.96675, 0.9667 ]),\n",
       " 3: array([0.97075, 0.9691 , 0.96825]),\n",
       " 4: array([0.9713, 0.9698, 0.9701]),\n",
       " 5: array([0.96925, 0.96825, 0.96875]),\n",
       " 6: array([0.9704 , 0.96845, 0.96945]),\n",
       " 7: array([0.96735, 0.96595, 0.967  ]),\n",
       " 8: array([0.9676 , 0.96665, 0.9678 ]),\n",
       " 9: array([0.9651, 0.9643, 0.9657]),\n",
       " 10: array([0.9647 , 0.96465, 0.9657 ])}"
      ]
     },
     "execution_count": 61,
     "metadata": {},
     "output_type": "execute_result"
    }
   ],
   "source": [
    "results['euclidean']"
   ]
  },
  {
   "cell_type": "code",
   "execution_count": 62,
   "metadata": {},
   "outputs": [
    {
     "data": {
      "text/plain": [
       "{1: array([0.9733 , 0.9708 , 0.97045]),\n",
       " 2: array([0.9733 , 0.9708 , 0.97045]),\n",
       " 3: array([0.97495, 0.9725 , 0.97175]),\n",
       " 4: array([0.97545, 0.9732 , 0.97365]),\n",
       " 5: array([0.974  , 0.97095, 0.973  ]),\n",
       " 6: array([0.97465, 0.9714 , 0.97305]),\n",
       " 7: array([0.9726 , 0.9693 , 0.97195]),\n",
       " 8: array([0.97295, 0.97045, 0.9722 ]),\n",
       " 9: array([0.97165, 0.96865, 0.97145]),\n",
       " 10: array([0.97145, 0.96855, 0.9714 ])}"
      ]
     },
     "execution_count": 62,
     "metadata": {},
     "output_type": "execute_result"
    }
   ],
   "source": [
    "results['cosine']"
   ]
  },
  {
   "cell_type": "code",
   "execution_count": 65,
   "metadata": {},
   "outputs": [
    {
     "data": {
      "text/plain": [
       "[0.9674666666666667,\n",
       " 0.9674666666666667,\n",
       " 0.9693666666666667,\n",
       " 0.9704,\n",
       " 0.96875,\n",
       " 0.9694333333333334,\n",
       " 0.9667666666666667,\n",
       " 0.96735,\n",
       " 0.9650333333333334,\n",
       " 0.9650166666666666]"
      ]
     },
     "execution_count": 65,
     "metadata": {},
     "output_type": "execute_result"
    }
   ],
   "source": [
    "[x.mean() for x in results['euclidean'].values()]"
   ]
  },
  {
   "cell_type": "code",
   "execution_count": 57,
   "metadata": {},
   "outputs": [
    {
     "data": {
      "text/plain": [
       "[0.9715166666666667,\n",
       " 0.9715166666666667,\n",
       " 0.9729833333333332,\n",
       " 0.9741000000000001,\n",
       " 0.97235,\n",
       " 0.9730833333333333,\n",
       " 0.9709833333333333,\n",
       " 0.9716333333333332,\n",
       " 0.9700833333333333,\n",
       " 0.9702666666666667]"
      ]
     },
     "execution_count": 57,
     "metadata": {},
     "output_type": "execute_result"
    }
   ],
   "source": [
    "[x.mean() for x in results['cosine'].values()]"
   ]
  },
  {
   "cell_type": "code",
   "execution_count": 66,
   "metadata": {},
   "outputs": [
    {
     "data": {
      "text/plain": [
       "[0.9715166666666667,\n",
       " 0.9715166666666667,\n",
       " 0.9730666666666666,\n",
       " 0.9741,\n",
       " 0.9726499999999999,\n",
       " 0.9730333333333334,\n",
       " 0.9712833333333334,\n",
       " 0.9718666666666667,\n",
       " 0.9705833333333334,\n",
       " 0.9704666666666667]"
      ]
     },
     "execution_count": 66,
     "metadata": {},
     "output_type": "execute_result"
    }
   ],
   "source": [
    "[x.mean() for x in results['cosine'].values()]"
   ]
  },
  {
   "cell_type": "code",
   "execution_count": 67,
   "metadata": {},
   "outputs": [],
   "source": [
    "clf = KNNClassifier(4, 'brute', 'cosine', True, 10000)"
   ]
  },
  {
   "cell_type": "code",
   "execution_count": 70,
   "metadata": {},
   "outputs": [],
   "source": [
    "clf.fit(X_train.values, y_train.values)"
   ]
  },
  {
   "cell_type": "code",
   "execution_count": 72,
   "metadata": {},
   "outputs": [
    {
     "name": "stdout",
     "output_type": "stream",
     "text": [
      "Wall time: 23.1 s\n"
     ]
    }
   ],
   "source": [
    "%%time\n",
    "result = clf.predict(X_test.values)"
   ]
  },
  {
   "cell_type": "code",
   "execution_count": 75,
   "metadata": {},
   "outputs": [
    {
     "data": {
      "text/plain": [
       "0.9752"
      ]
     },
     "execution_count": 75,
     "metadata": {},
     "output_type": "execute_result"
    }
   ],
   "source": [
    "(result == y_test).sum() / y_test.shape[0]"
   ]
  },
  {
   "cell_type": "code",
   "execution_count": 89,
   "metadata": {},
   "outputs": [],
   "source": [
    "cm = confusion_matrix(result, y_test)"
   ]
  },
  {
   "cell_type": "code",
   "execution_count": 286,
   "metadata": {},
   "outputs": [],
   "source": [
    "def plot_confusion_matrix(y_true, y_pred, classes,\n",
    "                          normalize=False,\n",
    "                          title=None,\n",
    "                          cmap=plt.cm.Blues):\n",
    "    \"\"\"\n",
    "    This function prints and plots the confusion matrix.\n",
    "    Normalization can be applied by setting `normalize=True`.\n",
    "    \"\"\"\n",
    "    if not title:\n",
    "        if normalize:\n",
    "            title = 'Normalized confusion matrix'\n",
    "        else:\n",
    "            title = 'Матрица ошибок'\n",
    "\n",
    "    # Compute confusion matrix\n",
    "    cm = confusion_matrix(y_true, y_pred)\n",
    "    # Only use the labels that appear in the data\n",
    "    classes = classes[unique_labels(y_true, y_pred)]\n",
    "    if normalize:\n",
    "        cm = cm.astype('float') / cm.sum(axis=1)[:, np.newaxis]\n",
    "        print(\"Normalized confusion matrix\")\n",
    "    else:\n",
    "        print('Матрица ошибок')\n",
    "\n",
    "\n",
    "    fig, ax = plt.subplots(figsize=(10, 10))\n",
    "    im = ax.imshow(cm, interpolation='nearest', cmap=cmap)\n",
    "    plt.axis('equal')\n",
    "    #ax.figure.colorbar(im, ax=ax)\n",
    "    # We want to show all ticks...\n",
    "    ax.set(xticks=np.arange(cm.shape[1]),\n",
    "           yticks=np.arange(cm.shape[0]),\n",
    "           # ... and label them with the respective list entries\n",
    "           xticklabels=classes, yticklabels=classes,\n",
    "           title=title,\n",
    "           ylabel='Истинная метка класса',\n",
    "           xlabel='Предсказанная метка класса')\n",
    "\n",
    "    # Rotate the tick labels and set their alignment.\n",
    "    plt.setp(ax.get_xticklabels(), rotation=45, ha=\"right\",\n",
    "             rotation_mode=\"anchor\")\n",
    "\n",
    "    # Loop over data dimensions and create text annotations.\n",
    "    fmt = '.2f' if normalize else 'd'\n",
    "    thresh = cm.max() / 2.\n",
    "    for i in range(cm.shape[0]):\n",
    "        for j in range(cm.shape[1]):\n",
    "            ax.text(j, i, format(cm[i, j], fmt),\n",
    "                    ha=\"center\", va=\"center\",\n",
    "                    color=\"white\" if cm[i, j] > thresh else \"black\")\n",
    "    fig.tight_layout()\n",
    "    plt.savefig(fname='my_fig2.pdf', format='pdf')\n",
    "    return ax"
   ]
  },
  {
   "cell_type": "code",
   "execution_count": 209,
   "metadata": {},
   "outputs": [],
   "source": [
    "from sklearn import svm, datasets\n",
    "from sklearn.model_selection import train_test_split\n",
    "from sklearn.metrics import confusion_matrix\n",
    "from sklearn.utils.multiclass import unique_labels"
   ]
  },
  {
   "cell_type": "code",
   "execution_count": 111,
   "metadata": {},
   "outputs": [
    {
     "name": "stdout",
     "output_type": "stream",
     "text": [
      "Матрица ошибок\n"
     ]
    },
    {
     "data": {
      "image/png": "[encoded data removed]",
      "text/plain": [
       "<Figure size 720x720 with 1 Axes>"
      ]
     },
     "metadata": {
      "needs_background": "light"
     },
     "output_type": "display_data"
    }
   ],
   "source": [
    "cm = plot_confusion_matrix(y_test, result, np.arange(0, 11))\n"
   ]
  },
  {
   "cell_type": "code",
   "execution_count": 117,
   "metadata": {},
   "outputs": [],
   "source": [
    "kk = (result == y_test)"
   ]
  },
  {
   "cell_type": "code",
   "execution_count": 118,
   "metadata": {},
   "outputs": [
    {
     "name": "stdout",
     "output_type": "stream",
     "text": [
      "115\n",
      "447\n",
      "707\n",
      "740\n",
      "881\n",
      "1178\n",
      "1242\n",
      "1422\n",
      "1778\n",
      "1865\n",
      "2130\n",
      "2447\n",
      "2771\n",
      "2901\n",
      "3405\n",
      "3490\n",
      "4017\n",
      "4194\n",
      "4860\n",
      "4911\n",
      "5936\n",
      "8061\n",
      "8520\n",
      "8527\n",
      "9211\n"
     ]
    }
   ],
   "source": [
    "for i, x in enumerate(kk):\n",
    "    if not x:\n",
    "        if y_test[i] == 4 and result[i] == 9:\n",
    "            print(i)"
   ]
  },
  {
   "cell_type": "code",
   "execution_count": 137,
   "metadata": {},
   "outputs": [
    {
     "data": {
      "image/png": "[encoded data removed]",
      "text/plain": [
       "<Figure size 432x288 with 1 Axes>"
      ]
     },
     "metadata": {
      "needs_background": "light"
     },
     "output_type": "display_data"
    }
   ],
   "source": [
    "pixels = X_test.iloc[707].values.reshape((28, 28))\n",
    "plt.imshow(pixels, cmap='gray')\n",
    "plt.savefig(fname='4_1.pdf', format='pdf')\n",
    "plt.show()\n"
   ]
  },
  {
   "cell_type": "code",
   "execution_count": 138,
   "metadata": {},
   "outputs": [
    {
     "data": {
      "image/png": "[encoded data removed]",
      "text/plain": [
       "<Figure size 432x288 with 1 Axes>"
      ]
     },
     "metadata": {
      "needs_background": "light"
     },
     "output_type": "display_data"
    }
   ],
   "source": [
    "pixels = X_test.iloc[9211].values.reshape((28, 28))\n",
    "plt.imshow(pixels, cmap='gray')\n",
    "plt.savefig(fname='4_2.pdf', format='pdf')\n",
    "plt.show()\n"
   ]
  },
  {
   "cell_type": "code",
   "execution_count": 131,
   "metadata": {},
   "outputs": [
    {
     "name": "stdout",
     "output_type": "stream",
     "text": [
      "1522\n",
      "1721\n",
      "3333\n",
      "4199\n",
      "4578\n",
      "4690\n",
      "5600\n",
      "5620\n",
      "5655\n",
      "5714\n",
      "5835\n",
      "5887\n",
      "5906\n"
     ]
    }
   ],
   "source": [
    "for i, x in enumerate(kk):\n",
    "    if not x:\n",
    "        if y_test[i] == 7 and result[i] == 9:\n",
    "            print(i)"
   ]
  },
  {
   "cell_type": "code",
   "execution_count": 139,
   "metadata": {},
   "outputs": [
    {
     "data": {
      "image/png": "[encoded data removed]",
      "text/plain": [
       "<Figure size 432x288 with 1 Axes>"
      ]
     },
     "metadata": {
      "needs_background": "light"
     },
     "output_type": "display_data"
    }
   ],
   "source": [
    "pixels = X_test.iloc[1522].values.reshape((28, 28))\n",
    "plt.imshow(pixels, cmap='gray')\n",
    "plt.savefig(fname='7_2.pdf', format='pdf')\n",
    "plt.show()\n"
   ]
  },
  {
   "cell_type": "code",
   "execution_count": 140,
   "metadata": {},
   "outputs": [
    {
     "data": {
      "image/png": "[encoded data removed]",
      "text/plain": [
       "<Figure size 432x288 with 1 Axes>"
      ]
     },
     "metadata": {
      "needs_background": "light"
     },
     "output_type": "display_data"
    }
   ],
   "source": [
    "pixels = X_test.iloc[5600].values.reshape((28, 28))\n",
    "plt.imshow(pixels, cmap='gray')\n",
    "plt.savefig(fname='7_1.pdf', format='pdf')\n",
    "plt.show()\n"
   ]
  },
  {
   "cell_type": "code",
   "execution_count": 141,
   "metadata": {},
   "outputs": [
    {
     "name": "stdout",
     "output_type": "stream",
     "text": [
      "938\n",
      "957\n",
      "1290\n",
      "2408\n",
      "2952\n",
      "2953\n",
      "4740\n",
      "6011\n",
      "6045\n",
      "6059\n",
      "8277\n",
      "8290\n"
     ]
    }
   ],
   "source": [
    "for i, x in enumerate(kk):\n",
    "    if not x:\n",
    "        if y_test[i] == 3 and result[i] == 5:\n",
    "            print(i)"
   ]
  },
  {
   "cell_type": "code",
   "execution_count": 31,
   "metadata": {},
   "outputs": [
    {
     "data": {
      "image/png": "[encoded data removed]",
      "text/plain": [
       "<Figure size 432x288 with 1 Axes>"
      ]
     },
     "metadata": {
      "needs_background": "light"
     },
     "output_type": "display_data"
    }
   ],
   "source": [
    "pixels = X_test.iloc[938].values.reshape((28, 28))\n",
    "plt.imshow(pixels, cmap='gray')\n",
    "plt.savefig(fname='3_1.pdf', format='pdf')\n",
    "plt.show()\n"
   ]
  },
  {
   "cell_type": "code",
   "execution_count": 32,
   "metadata": {},
   "outputs": [
    {
     "data": {
      "image/png": "[encoded data removed]",
      "text/plain": [
       "<Figure size 432x288 with 1 Axes>"
      ]
     },
     "metadata": {
      "needs_background": "light"
     },
     "output_type": "display_data"
    }
   ],
   "source": [
    "pixels = X_test.iloc[1290].values.reshape((28, 28))\n",
    "plt.imshow(pixels, cmap='gray')\n",
    "plt.savefig(fname='3_2.pdf', format='pdf')\n",
    "plt.show()\n"
   ]
  },
  {
   "cell_type": "markdown",
   "metadata": {},
   "source": [
    "### Augmentation"
   ]
  },
  {
   "cell_type": "code",
   "execution_count": 3,
   "metadata": {},
   "outputs": [],
   "source": [
    "from skimage.transform import rotate\n",
    "from skimage.filters import gaussian\n",
    "from skimage.transform import AffineTransform, warp, SimilarityTransform"
   ]
  },
  {
   "cell_type": "code",
   "execution_count": 4,
   "metadata": {},
   "outputs": [
    {
     "name": "stderr",
     "output_type": "stream",
     "text": [
      "C:\\conda\\lib\\site-packages\\skimage\\util\\dtype.py:135: UserWarning: Possible precision loss when converting from int64 to float64\n",
      "  .format(dtypeobj_in, dtypeobj_out))\n"
     ]
    }
   ],
   "source": [
    "newpic = rotate(X_test.iloc[1290].values.reshape((28, 28)), 50.0)"
   ]
  },
  {
   "cell_type": "code",
   "execution_count": 5,
   "metadata": {},
   "outputs": [],
   "source": [
    "def shift(image, vector):\n",
    "    transform = AffineTransform(translation=vector)\n",
    "    shifted = warp(image, transform, mode='wrap', preserve_range=True)\n",
    "\n",
    "    shifted = shifted.astype(image.dtype)"
   ]
  },
  {
   "cell_type": "code",
   "execution_count": 6,
   "metadata": {},
   "outputs": [],
   "source": [
    "shift(newpic, [200.0, 0.0])"
   ]
  },
  {
   "cell_type": "code",
   "execution_count": 7,
   "metadata": {},
   "outputs": [
    {
     "data": {
      "image/png": "[encoded data removed]",
      "text/plain": [
       "<Figure size 432x288 with 1 Axes>"
      ]
     },
     "metadata": {
      "needs_background": "light"
     },
     "output_type": "display_data"
    }
   ],
   "source": [
    "pixels = newpic\n",
    "plt.imshow(pixels, cmap='gray')\n",
    "plt.show()\n"
   ]
  },
  {
   "cell_type": "code",
   "execution_count": 8,
   "metadata": {},
   "outputs": [],
   "source": [
    "gaus1 = gaussian(newpic, sigma=1.0)"
   ]
  },
  {
   "cell_type": "code",
   "execution_count": 9,
   "metadata": {},
   "outputs": [
    {
     "data": {
      "image/png": "[encoded data removed]",
      "text/plain": [
       "<Figure size 432x288 with 1 Axes>"
      ]
     },
     "metadata": {
      "needs_background": "light"
     },
     "output_type": "display_data"
    }
   ],
   "source": [
    "pixels = gaus1\n",
    "plt.imshow(pixels, cmap='gray')\n",
    "plt.show()\n"
   ]
  },
  {
   "cell_type": "code",
   "execution_count": 10,
   "metadata": {},
   "outputs": [],
   "source": [
    "inverse_map = SimilarityTransform(translation=(-7, 0))\n",
    "shifted = warp(newpic, inverse_map)"
   ]
  },
  {
   "cell_type": "code",
   "execution_count": 12,
   "metadata": {},
   "outputs": [
    {
     "data": {
      "image/png": "[encoded data removed]",
      "text/plain": [
       "<Figure size 432x288 with 1 Axes>"
      ]
     },
     "metadata": {
      "needs_background": "light"
     },
     "output_type": "display_data"
    }
   ],
   "source": [
    "pixels = shifted\n",
    "plt.imshow(pixels, cmap='gray')\n",
    "plt.show()\n"
   ]
  },
  {
   "cell_type": "code",
   "execution_count": 124,
   "metadata": {},
   "outputs": [],
   "source": [
    "list_rotates = [-15, -10, -5, 5, 10, 15]\n",
    "list_shifts_x = [-3, -2, -1, 1, 2, 3]\n",
    "list_shifts_y = [-3, -2, -1, 1, 2, 3]\n",
    "list_sigmas = [0.5, 1, 1.5]"
   ]
  },
  {
   "cell_type": "code",
   "execution_count": 125,
   "metadata": {},
   "outputs": [],
   "source": [
    "import itertools"
   ]
  },
  {
   "cell_type": "code",
   "execution_count": 126,
   "metadata": {},
   "outputs": [
    {
     "name": "stdout",
     "output_type": "stream",
     "text": [
      "648\n"
     ]
    }
   ],
   "source": [
    "i = 0\n",
    "for element in itertools.product(list_rotates, list_shifts_x, list_shifts_y, list_sigmas):\n",
    "    i += 1\n",
    "print(i)"
   ]
  },
  {
   "cell_type": "code",
   "execution_count": 127,
   "metadata": {},
   "outputs": [],
   "source": [
    "tranformations_num = len(list(itertools.product(list_rotates, list_shifts_x, list_shifts_y, list_sigmas)))"
   ]
  },
  {
   "cell_type": "markdown",
   "metadata": {},
   "source": [
    "Поскольку для перебора всех варианты потребуется очень много ресурсов, используем рандомизированный подход. Будем добавлять в обучающую выборку картинки, преобразованные случайным (из 648 вариантов) образом, и считать качество на кросс-валидации. Всего переберем 50 вариантов."
   ]
  },
  {
   "cell_type": "code",
   "execution_count": 184,
   "metadata": {},
   "outputs": [],
   "source": [
    "rand_idx = np.random.randint(tranformations_num, size=10)"
   ]
  },
  {
   "cell_type": "code",
   "execution_count": 185,
   "metadata": {},
   "outputs": [],
   "source": [
    "from sklearn.model_selection import cross_val_score"
   ]
  },
  {
   "cell_type": "code",
   "execution_count": 186,
   "metadata": {},
   "outputs": [],
   "source": [
    "params = {\n",
    "    'strategy' : 'brute',\n",
    "    'metric' : 'cosine',\n",
    "    'weights' : True,\n",
    "    'test_block_size' : 10000\n",
    "}"
   ]
  },
  {
   "cell_type": "code",
   "execution_count": 187,
   "metadata": {
    "scrolled": true
   },
   "outputs": [
    {
     "name": "stderr",
     "output_type": "stream",
     "text": [
      "C:\\conda\\lib\\site-packages\\skimage\\util\\dtype.py:135: UserWarning: Possible precision loss when converting from int64 to float64\n",
      "  .format(dtypeobj_in, dtypeobj_out))\n"
     ]
    },
    {
     "name": "stdout",
     "output_type": "stream",
     "text": [
      "(-15, -1, -1, 1.5)\n",
      "0.9681500548434925\n"
     ]
    },
    {
     "name": "stderr",
     "output_type": "stream",
     "text": [
      "C:\\conda\\lib\\site-packages\\skimage\\util\\dtype.py:135: UserWarning: Possible precision loss when converting from int64 to float64\n",
      "  .format(dtypeobj_in, dtypeobj_out))\n"
     ]
    },
    {
     "name": "stdout",
     "output_type": "stream",
     "text": [
      "(-10, 3, -3, 1)\n",
      "0.9755500223788691\n"
     ]
    },
    {
     "name": "stderr",
     "output_type": "stream",
     "text": [
      "C:\\conda\\lib\\site-packages\\skimage\\util\\dtype.py:135: UserWarning: Possible precision loss when converting from int64 to float64\n",
      "  .format(dtypeobj_in, dtypeobj_out))\n"
     ]
    },
    {
     "name": "stdout",
     "output_type": "stream",
     "text": [
      "(-5, -2, 1, 0.5)\n",
      "0.984274994921121\n"
     ]
    },
    {
     "name": "stderr",
     "output_type": "stream",
     "text": [
      "C:\\conda\\lib\\site-packages\\skimage\\util\\dtype.py:135: UserWarning: Possible precision loss when converting from int64 to float64\n",
      "  .format(dtypeobj_in, dtypeobj_out))\n"
     ]
    },
    {
     "name": "stdout",
     "output_type": "stream",
     "text": [
      "(-5, 2, 1, 1)\n",
      "0.9829749736635579\n"
     ]
    },
    {
     "name": "stderr",
     "output_type": "stream",
     "text": [
      "C:\\conda\\lib\\site-packages\\skimage\\util\\dtype.py:135: UserWarning: Possible precision loss when converting from int64 to float64\n",
      "  .format(dtypeobj_in, dtypeobj_out))\n"
     ]
    },
    {
     "name": "stdout",
     "output_type": "stream",
     "text": [
      "(-5, 3, 1, 0.5)\n",
      "0.9845750961776844\n"
     ]
    },
    {
     "name": "stderr",
     "output_type": "stream",
     "text": [
      "C:\\conda\\lib\\site-packages\\skimage\\util\\dtype.py:135: UserWarning: Possible precision loss when converting from int64 to float64\n",
      "  .format(dtypeobj_in, dtypeobj_out))\n"
     ]
    },
    {
     "name": "stdout",
     "output_type": "stream",
     "text": [
      "(5, -3, -3, 0.5)\n",
      "0.9841999649192458\n"
     ]
    },
    {
     "name": "stderr",
     "output_type": "stream",
     "text": [
      "C:\\conda\\lib\\site-packages\\skimage\\util\\dtype.py:135: UserWarning: Possible precision loss when converting from int64 to float64\n",
      "  .format(dtypeobj_in, dtypeobj_out))\n"
     ]
    },
    {
     "name": "stdout",
     "output_type": "stream",
     "text": [
      "(5, 3, -2, 1.5)\n",
      "0.9747748923684929\n"
     ]
    },
    {
     "name": "stderr",
     "output_type": "stream",
     "text": [
      "C:\\conda\\lib\\site-packages\\skimage\\util\\dtype.py:135: UserWarning: Possible precision loss when converting from int64 to float64\n",
      "  .format(dtypeobj_in, dtypeobj_out))\n"
     ]
    },
    {
     "name": "stdout",
     "output_type": "stream",
     "text": [
      "(5, 3, 3, 0.5)\n",
      "0.9843000499239963\n"
     ]
    },
    {
     "name": "stderr",
     "output_type": "stream",
     "text": [
      "C:\\conda\\lib\\site-packages\\skimage\\util\\dtype.py:135: UserWarning: Possible precision loss when converting from int64 to float64\n",
      "  .format(dtypeobj_in, dtypeobj_out))\n"
     ]
    },
    {
     "name": "stdout",
     "output_type": "stream",
     "text": [
      "(15, -2, -2, 1)\n",
      "0.9708249848533675\n"
     ]
    },
    {
     "name": "stderr",
     "output_type": "stream",
     "text": [
      "C:\\conda\\lib\\site-packages\\skimage\\util\\dtype.py:135: UserWarning: Possible precision loss when converting from int64 to float64\n",
      "  .format(dtypeobj_in, dtypeobj_out))\n"
     ]
    },
    {
     "name": "stdout",
     "output_type": "stream",
     "text": [
      "(15, -2, 1, 0.5)\n",
      "0.9744250561249315\n"
     ]
    }
   ],
   "source": [
    "vec_rotate = np.vectorize(rotate, signature='(n,m)->(n,m)', excluded=['angle'])\n",
    "vec_gauss = np.vectorize(gaussian, signature='(n,m)->(n,m)', excluded=['sigma'])\n",
    "vec_shift = np.vectorize(warp, signature='(n,m)->(n,m)', excluded=['inverse_map'])\n",
    "\n",
    "for i, element in enumerate(itertools.product(list_rotates, list_shifts_x, list_shifts_y, list_sigmas)):\n",
    "    if i not in rand_idx:\n",
    "        continue\n",
    "    new_train = X_train[:10000].copy(deep=True)\n",
    "    \n",
    "    transformed_to_pic = np.apply_along_axis(np.reshape, 1, new_train, (28, 28))\n",
    "    \n",
    "    rotated = vec_rotate(transformed_to_pic, angle=element[0]).reshape((transformed_to_pic.shape[0], 784))\n",
    "    blured = vec_gauss(transformed_to_pic, sigma=element[3]).reshape((transformed_to_pic.shape[0], 784))\n",
    "    shifted = vec_shift(transformed_to_pic, inverse_map=SimilarityTransform(translation=(element[1], element[2]))).reshape((transformed_to_pic.shape[0], 784))\n",
    "    \n",
    "    Train_t = np.concatenate((new_train.values, rotated, blured, shifted), axis=0)\n",
    "    Labels_t =  np.concatenate((y_train.values[:10000], y_train.values[:10000], y_train.values[:10000], y_train.values[:10000]), axis=0)\n",
    "    \n",
    "    shuffle = np.random.permutation(Train_t.shape[0])\n",
    "    \n",
    "    folds = kfold(Train_t.shape[0], 3)\n",
    "    \n",
    "    cv_results = knn_cross_val_score(Train_t[shuffle], Labels_t[shuffle], [4], 'accuracy', folds, **params)\n",
    "    print(element)\n",
    "    print(cv_results[4].mean())"
   ]
  },
  {
   "cell_type": "code",
   "execution_count": 276,
   "metadata": {},
   "outputs": [],
   "source": [
    "element = (-5, 3, 1, 0.5)"
   ]
  },
  {
   "cell_type": "code",
   "execution_count": 292,
   "metadata": {},
   "outputs": [],
   "source": [
    "clf = KNNClassifier(4, **params)"
   ]
  },
  {
   "cell_type": "code",
   "execution_count": 293,
   "metadata": {},
   "outputs": [],
   "source": [
    "transformed_to_pic = np.apply_along_axis(np.reshape, 1, X_train, (28, 28))"
   ]
  },
  {
   "cell_type": "code",
   "execution_count": 294,
   "metadata": {},
   "outputs": [
    {
     "name": "stderr",
     "output_type": "stream",
     "text": [
      "C:\\conda\\lib\\site-packages\\skimage\\util\\dtype.py:135: UserWarning: Possible precision loss when converting from int64 to float64\n",
      "  .format(dtypeobj_in, dtypeobj_out))\n"
     ]
    }
   ],
   "source": [
    "rotated = vec_rotate(transformed_to_pic, angle=element[0]).reshape((transformed_to_pic.shape[0], 784))\n",
    "blured = vec_gauss(transformed_to_pic, sigma=element[3]).reshape((transformed_to_pic.shape[0], 784))\n",
    "shifted = vec_shift(transformed_to_pic, inverse_map=SimilarityTransform(translation=(element[1], element[2]))).reshape((transformed_to_pic.shape[0], 784))\n",
    "\n",
    "Train_t = np.concatenate((X_train.values, rotated, blured, shifted), axis=0)\n",
    "Labels_t =  np.concatenate((y_train.values, y_train.values, y_train.values, y_train.values), axis=0)"
   ]
  },
  {
   "cell_type": "code",
   "execution_count": 295,
   "metadata": {},
   "outputs": [],
   "source": [
    "clf.fit(Train_t, Labels_t)"
   ]
  },
  {
   "cell_type": "code",
   "execution_count": 296,
   "metadata": {},
   "outputs": [
    {
     "name": "stdout",
     "output_type": "stream",
     "text": [
      "Wall time: 2min 2s\n"
     ]
    }
   ],
   "source": [
    "%%time\n",
    "result = clf.predict(X_test)"
   ]
  },
  {
   "cell_type": "code",
   "execution_count": 297,
   "metadata": {},
   "outputs": [
    {
     "data": {
      "text/plain": [
       "(240000, 784)"
      ]
     },
     "execution_count": 297,
     "metadata": {},
     "output_type": "execute_result"
    }
   ],
   "source": [
    "Train_t.shape"
   ]
  },
  {
   "cell_type": "code",
   "execution_count": 298,
   "metadata": {},
   "outputs": [
    {
     "data": {
      "text/plain": [
       "(240000,)"
      ]
     },
     "execution_count": 298,
     "metadata": {},
     "output_type": "execute_result"
    }
   ],
   "source": [
    "Labels_t.shape"
   ]
  },
  {
   "cell_type": "code",
   "execution_count": 299,
   "metadata": {},
   "outputs": [
    {
     "data": {
      "text/plain": [
       "(10000,)"
      ]
     },
     "execution_count": 299,
     "metadata": {},
     "output_type": "execute_result"
    }
   ],
   "source": [
    "result.shape"
   ]
  },
  {
   "cell_type": "code",
   "execution_count": 300,
   "metadata": {},
   "outputs": [
    {
     "data": {
      "text/plain": [
       "0.9771"
      ]
     },
     "execution_count": 300,
     "metadata": {},
     "output_type": "execute_result"
    }
   ],
   "source": [
    "(result == y_test).sum() / y_test.shape[0]"
   ]
  },
  {
   "cell_type": "code",
   "execution_count": 302,
   "metadata": {},
   "outputs": [
    {
     "name": "stdout",
     "output_type": "stream",
     "text": [
      "Матрица ошибок\n"
     ]
    },
    {
     "data": {
      "image/png": "[encoded data removed]",
      "text/plain": [
       "<Figure size 720x720 with 1 Axes>"
      ]
     },
     "metadata": {
      "needs_background": "light"
     },
     "output_type": "display_data"
    }
   ],
   "source": [
    "cm = plot_confusion_matrix(y_test, result, np.arange(0, 11))\n"
   ]
  },
  {
   "cell_type": "markdown",
   "metadata": {},
   "source": [
    "### Another way"
   ]
  },
  {
   "cell_type": "code",
   "execution_count": 211,
   "metadata": {},
   "outputs": [],
   "source": [
    "params = {\n",
    "    'strategy' : 'brute',\n",
    "    'metric' : 'cosine',\n",
    "    'weights' : True,\n",
    "    'test_block_size' : 10000\n",
    "}"
   ]
  },
  {
   "cell_type": "code",
   "execution_count": 228,
   "metadata": {},
   "outputs": [],
   "source": [
    "def _most_frequent_value(x):\n",
    "    (values,counts) = np.unique(x, return_counts=True, axis=0)\n",
    "    ind = np.argmax(counts)\n",
    "    return values[ind]"
   ]
  },
  {
   "cell_type": "code",
   "execution_count": 258,
   "metadata": {},
   "outputs": [
    {
     "name": "stderr",
     "output_type": "stream",
     "text": [
      "C:\\conda\\lib\\site-packages\\skimage\\util\\dtype.py:135: UserWarning: Possible precision loss when converting from int64 to float64\n",
      "  .format(dtypeobj_in, dtypeobj_out))\n"
     ]
    },
    {
     "name": "stdout",
     "output_type": "stream",
     "text": [
      "(-15, -1, -1, 1.5)\n",
      "0.9044\n"
     ]
    },
    {
     "name": "stderr",
     "output_type": "stream",
     "text": [
      "C:\\conda\\lib\\site-packages\\skimage\\util\\dtype.py:135: UserWarning: Possible precision loss when converting from int64 to float64\n",
      "  .format(dtypeobj_in, dtypeobj_out))\n"
     ]
    },
    {
     "name": "stdout",
     "output_type": "stream",
     "text": [
      "(-10, 3, -3, 1)\n",
      "0.9431\n"
     ]
    },
    {
     "name": "stderr",
     "output_type": "stream",
     "text": [
      "C:\\conda\\lib\\site-packages\\skimage\\util\\dtype.py:135: UserWarning: Possible precision loss when converting from int64 to float64\n",
      "  .format(dtypeobj_in, dtypeobj_out))\n"
     ]
    },
    {
     "name": "stdout",
     "output_type": "stream",
     "text": [
      "(-5, -2, 1, 0.5)\n",
      "0.9569\n"
     ]
    },
    {
     "name": "stderr",
     "output_type": "stream",
     "text": [
      "C:\\conda\\lib\\site-packages\\skimage\\util\\dtype.py:135: UserWarning: Possible precision loss when converting from int64 to float64\n",
      "  .format(dtypeobj_in, dtypeobj_out))\n"
     ]
    },
    {
     "name": "stdout",
     "output_type": "stream",
     "text": [
      "(-5, 2, 1, 1)\n",
      "0.9418\n"
     ]
    },
    {
     "name": "stderr",
     "output_type": "stream",
     "text": [
      "C:\\conda\\lib\\site-packages\\skimage\\util\\dtype.py:135: UserWarning: Possible precision loss when converting from int64 to float64\n",
      "  .format(dtypeobj_in, dtypeobj_out))\n"
     ]
    },
    {
     "name": "stdout",
     "output_type": "stream",
     "text": [
      "(-5, 3, 1, 0.5)\n",
      "0.9564\n"
     ]
    },
    {
     "name": "stderr",
     "output_type": "stream",
     "text": [
      "C:\\conda\\lib\\site-packages\\skimage\\util\\dtype.py:135: UserWarning: Possible precision loss when converting from int64 to float64\n",
      "  .format(dtypeobj_in, dtypeobj_out))\n"
     ]
    },
    {
     "name": "stdout",
     "output_type": "stream",
     "text": [
      "(5, -3, -3, 0.5)\n",
      "0.9557\n"
     ]
    },
    {
     "name": "stderr",
     "output_type": "stream",
     "text": [
      "C:\\conda\\lib\\site-packages\\skimage\\util\\dtype.py:135: UserWarning: Possible precision loss when converting from int64 to float64\n",
      "  .format(dtypeobj_in, dtypeobj_out))\n"
     ]
    },
    {
     "name": "stdout",
     "output_type": "stream",
     "text": [
      "(5, 3, -2, 1.5)\n",
      "0.9069\n"
     ]
    },
    {
     "name": "stderr",
     "output_type": "stream",
     "text": [
      "C:\\conda\\lib\\site-packages\\skimage\\util\\dtype.py:135: UserWarning: Possible precision loss when converting from int64 to float64\n",
      "  .format(dtypeobj_in, dtypeobj_out))\n"
     ]
    },
    {
     "name": "stdout",
     "output_type": "stream",
     "text": [
      "(5, 3, 3, 0.5)\n",
      "0.9557\n"
     ]
    },
    {
     "name": "stderr",
     "output_type": "stream",
     "text": [
      "C:\\conda\\lib\\site-packages\\skimage\\util\\dtype.py:135: UserWarning: Possible precision loss when converting from int64 to float64\n",
      "  .format(dtypeobj_in, dtypeobj_out))\n"
     ]
    },
    {
     "name": "stdout",
     "output_type": "stream",
     "text": [
      "(15, -2, -2, 1)\n",
      "0.9406\n"
     ]
    },
    {
     "name": "stderr",
     "output_type": "stream",
     "text": [
      "C:\\conda\\lib\\site-packages\\skimage\\util\\dtype.py:135: UserWarning: Possible precision loss when converting from int64 to float64\n",
      "  .format(dtypeobj_in, dtypeobj_out))\n"
     ]
    },
    {
     "name": "stdout",
     "output_type": "stream",
     "text": [
      "(15, -2, 1, 0.5)\n",
      "0.9569\n"
     ]
    }
   ],
   "source": [
    "vec_rotate = np.vectorize(rotate, signature='(n,m)->(n,m)', excluded=['angle'])\n",
    "vec_gauss = np.vectorize(gaussian, signature='(n,m)->(n,m)', excluded=['sigma'])\n",
    "vec_shift = np.vectorize(warp, signature='(n,m)->(n,m)', excluded=['inverse_map'])\n",
    "\n",
    "for i, element in enumerate(itertools.product(list_rotates, list_shifts_x, list_shifts_y, list_sigmas)):\n",
    "    if i not in rand_idx:\n",
    "        continue\n",
    "    new_train = X_train.values[:10000]\n",
    "    y_new = y_train.values[:10000]\n",
    "    \n",
    "    transformed_to_pic = np.apply_along_axis(np.reshape, 1, X_test, (28, 28))\n",
    "    \n",
    "    rotated = vec_rotate(transformed_to_pic, angle=element[0]).reshape((transformed_to_pic.shape[0], 784))\n",
    "    blured = vec_gauss(transformed_to_pic, sigma=element[3]).reshape((transformed_to_pic.shape[0], 784))\n",
    "    shifted = vec_shift(transformed_to_pic, inverse_map=SimilarityTransform(translation=(element[1], element[2]))).reshape((transformed_to_pic.shape[0], 784))\n",
    "    \n",
    "    clf = KNNClassifier(4, **params)\n",
    "    clf.fit(new_train, y_new)\n",
    "    dist1, idx1 = clf.find_kneighbors(X_test, True)\n",
    "    dist2, idx2 = clf.find_kneighbors(rotated, True)\n",
    "    dist3, idx3 = clf.find_kneighbors(blured, True)\n",
    "    dist4, idx4 = clf.find_kneighbors(shifted, True)\n",
    "    \n",
    "    full_dist = np.concatenate((dist1, dist2, dist3, dist4), axis=1)\n",
    "    sort_dist = np.argsort(full_dist, axis=1)\n",
    "    k_first = sort_dist\n",
    "    indexes = np.concatenate((idx1, idx2, idx3, idx4), axis=1)\n",
    "    \n",
    "    result = np.apply_along_axis(_most_frequent_value, 1, y_new[indexes[np.arange(indexes.shape[0])[:, None], k_first][:, :4]])\n",
    "    print(element)\n",
    "    print((result == y_test).sum() / y_test.shape[0])\n",
    "    "
   ]
  },
  {
   "cell_type": "code",
   "execution_count": 216,
   "metadata": {},
   "outputs": [],
   "source": [
    "mat1 = np.array([[20, 10], [30, 40]])\n",
    "mat2 = np.array([[100, 200], [300, 400]])"
   ]
  },
  {
   "cell_type": "code",
   "execution_count": 217,
   "metadata": {},
   "outputs": [
    {
     "data": {
      "text/plain": [
       "array([[1, 0, 2, 3],\n",
       "       [0, 1, 2, 3]], dtype=int64)"
      ]
     },
     "execution_count": 217,
     "metadata": {},
     "output_type": "execute_result"
    }
   ],
   "source": [
    "np.argsort(np.concatenate((mat1, mat2), axis=1))"
   ]
  },
  {
   "cell_type": "code",
   "execution_count": 236,
   "metadata": {},
   "outputs": [
    {
     "data": {
      "text/plain": [
       "array([[9724, 6525,  522, ...,  562, 4545, 3250],\n",
       "       [1609, 5438, 1874, ..., 3200, 4182,  646],\n",
       "       [5732, 2301, 6380, ..., 7579, 1148, 3728],\n",
       "       ...,\n",
       "       [3261, 9362, 8220, ..., 4959, 6969, 5807],\n",
       "       [1311, 6011, 5991, ...,  499, 7681, 1207],\n",
       "       [5179, 5329, 7641, ..., 5629, 5973, 7641]], dtype=int64)"
      ]
     },
     "execution_count": 236,
     "metadata": {},
     "output_type": "execute_result"
    }
   ],
   "source": [
    "indexes"
   ]
  },
  {
   "cell_type": "code",
   "execution_count": 251,
   "metadata": {},
   "outputs": [
    {
     "data": {
      "text/plain": [
       "(10000, 16)"
      ]
     },
     "execution_count": 251,
     "metadata": {},
     "output_type": "execute_result"
    }
   ],
   "source": [
    "k_first.shape"
   ]
  },
  {
   "cell_type": "code",
   "execution_count": 247,
   "metadata": {},
   "outputs": [
    {
     "data": {
      "text/plain": [
       "(10000, 16, 16)"
      ]
     },
     "execution_count": 247,
     "metadata": {},
     "output_type": "execute_result"
    }
   ],
   "source": [
    "indexes[k_first].shape"
   ]
  },
  {
   "cell_type": "code",
   "execution_count": 255,
   "metadata": {},
   "outputs": [
    {
     "data": {
      "text/plain": [
       "array([[7, 7, 7, 7],\n",
       "       [2, 8, 2, 2],\n",
       "       [1, 1, 1, 1],\n",
       "       ...,\n",
       "       [4, 4, 9, 4],\n",
       "       [5, 5, 8, 5],\n",
       "       [6, 6, 6, 6]], dtype=int64)"
      ]
     },
     "execution_count": 255,
     "metadata": {},
     "output_type": "execute_result"
    }
   ],
   "source": [
    "y_new[indexes[np.arange(indexes.shape[0])[:, None], k_first][:, :4]]"
   ]
  },
  {
   "cell_type": "code",
   "execution_count": 245,
   "metadata": {},
   "outputs": [
    {
     "data": {
      "text/plain": [
       "(10000, 16)"
      ]
     },
     "execution_count": 245,
     "metadata": {},
     "output_type": "execute_result"
    }
   ],
   "source": [
    "indexes.shape"
   ]
  },
  {
   "cell_type": "code",
   "execution_count": 231,
   "metadata": {},
   "outputs": [
    {
     "data": {
      "text/plain": [
       "array([0, 9, 0, ..., 1, 0, 0], dtype=int64)"
      ]
     },
     "execution_count": 231,
     "metadata": {},
     "output_type": "execute_result"
    }
   ],
   "source": [
    "np.apply_along_axis(_most_frequent_value, 1, result)"
   ]
  },
  {
   "cell_type": "code",
   "execution_count": 272,
   "metadata": {},
   "outputs": [],
   "source": [
    "element = (15, -2, 1, 0.5)"
   ]
  },
  {
   "cell_type": "code",
   "execution_count": 273,
   "metadata": {},
   "outputs": [
    {
     "name": "stderr",
     "output_type": "stream",
     "text": [
      "C:\\conda\\lib\\site-packages\\skimage\\util\\dtype.py:135: UserWarning: Possible precision loss when converting from int64 to float64\n",
      "  .format(dtypeobj_in, dtypeobj_out))\n"
     ]
    },
    {
     "name": "stdout",
     "output_type": "stream",
     "text": [
      "(15, -2, 1, 0.5)\n",
      "0.9757\n"
     ]
    }
   ],
   "source": [
    "vec_rotate = np.vectorize(rotate, signature='(n,m)->(n,m)', excluded=['angle'])\n",
    "vec_gauss = np.vectorize(gaussian, signature='(n,m)->(n,m)', excluded=['sigma'])\n",
    "vec_shift = np.vectorize(warp, signature='(n,m)->(n,m)', excluded=['inverse_map'])\n",
    "\n",
    "new_train = X_train.values\n",
    "y_new = y_train.values\n",
    "    \n",
    "transformed_to_pic = np.apply_along_axis(np.reshape, 1, X_test, (28, 28))\n",
    "\n",
    "rotated = vec_rotate(transformed_to_pic, angle=element[0]).reshape((transformed_to_pic.shape[0], 784))\n",
    "blured = vec_gauss(transformed_to_pic, sigma=element[3]).reshape((transformed_to_pic.shape[0], 784))\n",
    "shifted = vec_shift(transformed_to_pic, inverse_map=SimilarityTransform(translation=(element[1], element[2]))).reshape((transformed_to_pic.shape[0], 784))\n",
    "\n",
    "clf = KNNClassifier(4, **params)\n",
    "clf.fit(new_train, y_new)\n",
    "dist1, idx1 = clf.find_kneighbors(X_test, True)\n",
    "dist2, idx2 = clf.find_kneighbors(rotated, True)\n",
    "dist3, idx3 = clf.find_kneighbors(blured, True)\n",
    "dist4, idx4 = clf.find_kneighbors(shifted, True)\n",
    "\n",
    "full_dist = np.concatenate((dist1, dist2, dist3, dist4), axis=1)\n",
    "sort_dist = np.argsort(full_dist, axis=1)\n",
    "k_first = sort_dist\n",
    "indexes = np.concatenate((idx1, idx2, idx3, idx4), axis=1)\n",
    "\n",
    "result = np.apply_along_axis(_most_frequent_value, 1, y_new[indexes[np.arange(indexes.shape[0])[:, None], k_first][:, :4]])\n",
    "print(element)\n",
    "print((result == y_test).sum() / y_test.shape[0])\n",
    "    "
   ]
  },
  {
   "cell_type": "markdown",
   "metadata": {},
   "source": [
    "1:05"
   ]
  },
  {
   "cell_type": "code",
   "execution_count": 274,
   "metadata": {},
   "outputs": [
    {
     "name": "stdout",
     "output_type": "stream",
     "text": [
      "Матрица ошибок\n"
     ]
    },
    {
     "data": {
      "image/png": "[encoded data removed]",
      "text/plain": [
       "<Figure size 720x720 with 1 Axes>"
      ]
     },
     "metadata": {
      "needs_background": "light"
     },
     "output_type": "display_data"
    }
   ],
   "source": [
    "cm = plot_confusion_matrix(y_test, result, np.arange(0, 11))"
   ]
  },
  {
   "cell_type": "code",
   "execution_count": null,
   "metadata": {},
   "outputs": [],
   "source": []
  }
 ],
 "metadata": {
  "kernelspec": {
   "display_name": "Python 3",
   "language": "python",
   "name": "python3"
  },
  "language_info": {
   "codemirror_mode": {
    "name": "ipython",
    "version": 3
   },
   "file_extension": ".py",
   "mimetype": "text/x-python",
   "name": "python",
   "nbconvert_exporter": "python",
   "pygments_lexer": "ipython3",
   "version": "3.7.3"
  }
 },
 "nbformat": 4,
 "nbformat_minor": 2
}
